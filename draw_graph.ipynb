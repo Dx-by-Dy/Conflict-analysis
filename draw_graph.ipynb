{
 "cells": [
  {
   "cell_type": "code",
   "execution_count": 1,
   "id": "51e64d5b-71d5-4c4b-b4b0-f3f4c7470603",
   "metadata": {},
   "outputs": [],
   "source": [
    "import networkx as nx\n",
    "import matplotlib.pyplot as plt\n",
    "from solver import Solver\n",
    "import os"
   ]
  },
  {
   "cell_type": "code",
   "execution_count": null,
   "id": "66177c0a",
   "metadata": {},
   "outputs": [
    {
     "name": "stdout",
     "output_type": "stream",
     "text": [
      "mod008inf.mps started solving with params: presolve - disable, cutting - disable.\n",
      "mod008inf.mps started solving with params: presolve - enable, cutting - disable.\n",
      "mod008inf.mps started solving with params: presolve - enable, cutting - standard.\n"
     ]
    }
   ],
   "source": [
    "results = {}\n",
    "for dir_name, _, filenames in os.walk(\"problems\"):\n",
    "    for filename in filenames:\n",
    "        if filename == \"problem_from_article.lp\" or filename == \"problem_from_article_mod.lp\":\n",
    "            continue\n",
    "        results[filename] = [None, None, None, None]\n",
    "        path = os.path.join(dir_name, filename)\n",
    "\n",
    "        print(f\"{filename} started solving with params: presolve - disable, cutting - disable.\")\n",
    "        sl = Solver(path, False, 0, True)\n",
    "        _ = sl.start()\n",
    "        mip_state = sl.result()\n",
    "        results[filename][0] = mip_state.number_of_relaxations\n",
    "\n",
    "        print(f\"{filename} started solving with params: presolve - enable, cutting - disable.\")\n",
    "        sl = Solver(path, True, 0, True)\n",
    "        _ = sl.start()\n",
    "        mip_state = sl.result()\n",
    "        results[filename][1] = mip_state.number_of_relaxations\n",
    "\n",
    "        print(f\"{filename} started solving with params: presolve - enable, cutting - standard.\")\n",
    "        sl = Solver(path, True, 1, True)\n",
    "        _ = sl.start()\n",
    "        mip_state = sl.result()\n",
    "        results[filename][2] = mip_state.number_of_relaxations\n",
    "\n",
    "        print(f\"{filename} started solving with params: presolve - enable, cutting - yolo.\")\n",
    "        sl = Solver(path, True, 2, True)\n",
    "        _ = sl.start()\n",
    "        mip_state = sl.result()\n",
    "        results[filename][3] = mip_state.number_of_relaxations"
   ]
  },
  {
   "cell_type": "code",
   "execution_count": 2,
   "id": "019a7399-94c3-4cb7-8233-0d1ba46ce861",
   "metadata": {},
   "outputs": [],
   "source": [
    "def node_label(node) -> str:\n",
    "    if node.bound.upper - node.bound.lower <= 1e-9:\n",
    "        return f\"{node.var.name} = {node.bound.upper}\\nI={node.iteration} D={node.depth}\"\n",
    "    else:\n",
    "        return f\"{node.bound.lower}≤{node.var.name}≤{node.bound.upper}\\nI={node.iteration} D={node.depth}\"\n",
    "\n",
    "def node_color(idx, node, origins):\n",
    "    #print(node.var, node.iteration, node.bound)\n",
    "    if idx in origins:\n",
    "        return \"green\"\n",
    "    elif node.bound.upper - node.bound.lower <= 1e-9:\n",
    "        return \"blue\"\n",
    "    elif node.var.is_general:\n",
    "        return \"yellow\"\n",
    "    return \"magenta\""
   ]
  },
  {
   "cell_type": "code",
   "execution_count": 4,
   "id": "f5cb0123",
   "metadata": {},
   "outputs": [],
   "source": [
    "def get_pos(nodes):\n",
    "    graph = {}\n",
    "    for node in nodes.values():\n",
    "        if (node.depth, node.iteration) not in graph:\n",
    "            graph[(node.depth, node.iteration)] = [node]\n",
    "        else:\n",
    "            graph[(node.depth, node.iteration)].append(node)\n",
    "\n",
    "    gr = sorted(graph.items())\n",
    "\n",
    "    current_x = 0\n",
    "    current_y = 0\n",
    "    x_step, y_step = 1, -1\n",
    "    current_depth = 0\n",
    "    res = {}\n",
    "    for (depth, it), gr_nodes in gr:\n",
    "        if depth == 0 and it == 0:\n",
    "            current_y = -1\n",
    "        if depth != current_depth:\n",
    "            current_y = 0\n",
    "        for node in gr_nodes:\n",
    "            res[node_label(node)] = (current_x, current_y)\n",
    "            current_x += x_step\n",
    "        current_y += y_step\n",
    "        current_depth = depth\n",
    "\n",
    "    return res"
   ]
  },
  {
   "cell_type": "code",
   "execution_count": null,
   "id": "aad9f909",
   "metadata": {},
   "outputs": [
    {
     "name": "stdout",
     "output_type": "stream",
     "text": [
      "B293(4) = 1\n",
      "I=0 D=10\n",
      "B249(4) = 0\n",
      "I=0 D=9\n",
      "B221(4) = 0\n",
      "I=0 D=8\n",
      "B218(4) = 0\n",
      "I=0 D=7\n",
      "B228(4) = 0\n",
      "I=0 D=6\n",
      "B94(3) = 1\n",
      "I=0 D=5\n",
      "B43(3) = 0\n",
      "I=0 D=4\n",
      "B69(3) = 0\n",
      "I=0 D=3\n",
      "B92(4) = 0\n",
      "I=0 D=2\n",
      "B83(4) = 1\n",
      "I=0 D=1\n"
     ]
    },
    {
     "ename": "NameError",
     "evalue": "name 'get_pos' is not defined",
     "output_type": "error",
     "traceback": [
      "\u001b[31m---------------------------------------------------------------------------\u001b[39m",
      "\u001b[31mNameError\u001b[39m                                 Traceback (most recent call last)",
      "\u001b[36mCell\u001b[39m\u001b[36m \u001b[39m\u001b[32mIn[4]\u001b[39m\u001b[32m, line 24\u001b[39m\n\u001b[32m     19\u001b[39m     G.add_node(node_label(nodes[node_idx]))\n\u001b[32m     21\u001b[39m \u001b[38;5;66;03m#pos = nx.nx_agraph.graphviz_layout(G, prog=\"dot\")\u001b[39;00m\n\u001b[32m     22\u001b[39m \u001b[38;5;66;03m# pos = dict([(node_label(n), (n.depth, -n.iteration)) for n in nodes.values()])\u001b[39;00m\n\u001b[32m     23\u001b[39m \u001b[38;5;66;03m# print(pos)\u001b[39;00m\n\u001b[32m---> \u001b[39m\u001b[32m24\u001b[39m pos = \u001b[43mget_pos\u001b[49m(nodes)\n\u001b[32m     26\u001b[39m plt.figure(\u001b[32m3\u001b[39m,figsize=(\u001b[32m150\u001b[39m,\u001b[32m15\u001b[39m)) \n\u001b[32m     27\u001b[39m nx.draw(G,\n\u001b[32m     28\u001b[39m         pos,\n\u001b[32m     29\u001b[39m         with_labels=\u001b[38;5;28;01mTrue\u001b[39;00m, \n\u001b[32m   (...)\u001b[39m\u001b[32m     32\u001b[39m         node_color=[node_color(idx, node, origins) \u001b[38;5;28;01mfor\u001b[39;00m idx, node \u001b[38;5;129;01min\u001b[39;00m nodes.items()]\n\u001b[32m     33\u001b[39m        )\n",
      "\u001b[31mNameError\u001b[39m: name 'get_pos' is not defined"
     ]
    }
   ],
   "source": [
    "number_of_graph = 214\n",
    "nodes, edges, origins = graphes[number_of_graph][0].to_plot_info()\n",
    "# fuips = graphes[number_of_graph][0].find_FUIP()\n",
    "# for fuip in fuips:\n",
    "#     print(node_label(graphes[number_of_graph][0].nodes[fuip]))\n",
    "\n",
    "# for depth in graphes[number_of_graph][0].drains:\n",
    "#     print(depth)\n",
    "#     for node_idx in depth:\n",
    "#         print(node_label(graphes[number_of_graph][0].nodes[node_idx]))\n",
    "#     print()\n",
    "\n",
    "G = nx.DiGraph()\n",
    "\n",
    "for edge in edges:\n",
    "    G.add_edge(node_label(nodes[edge[0]]), node_label(nodes[edge[1]]))\n",
    "\n",
    "# for node_idx in origins:\n",
    "#     G.add_node(node_label(nodes[node_idx]))\n",
    "\n",
    "# pos = nx.nx_agraph.graphviz_layout(G, prog=\"dot\")\n",
    "pos = get_pos(nodes)\n",
    "\n",
    "plt.figure(3,figsize=(150,15)) \n",
    "nx.draw(G,\n",
    "        pos,\n",
    "        with_labels=True, \n",
    "        font_size=8, \n",
    "        node_size=2600, \n",
    "        node_color=[node_color(idx, node, origins) for idx, node in nodes.items()]\n",
    "       )"
   ]
  }
 ],
 "metadata": {
  "kernelspec": {
   "display_name": "venv",
   "language": "python",
   "name": "python3"
  },
  "language_info": {
   "codemirror_mode": {
    "name": "ipython",
    "version": 3
   },
   "file_extension": ".py",
   "mimetype": "text/x-python",
   "name": "python",
   "nbconvert_exporter": "python",
   "pygments_lexer": "ipython3",
   "version": "3.12.3"
  }
 },
 "nbformat": 4,
 "nbformat_minor": 5
}
